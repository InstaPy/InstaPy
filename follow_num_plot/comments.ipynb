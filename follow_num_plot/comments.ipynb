{
 "cells": [
  {
   "cell_type": "code",
   "execution_count": 2,
   "metadata": {
    "collapsed": true
   },
   "outputs": [],
   "source": [
    "from random import choice"
   ]
  },
  {
   "cell_type": "code",
   "execution_count": 28,
   "metadata": {
    "collapsed": false
   },
   "outputs": [
    {
     "name": "stdout",
     "output_type": "stream",
     "text": [
      "[u'Quite Lovely \\u270c \\u2764 ', u'Quite Cool \\u27b0 \\u2600 ', u'Perfect! ', u'So Lovely ', u'Really Incredible ', u'Impressive! \\u263a ', u'Epic \\u270c \\u2611 ', u'Really Lovely \\u2764 ', u'Pretty Lovely \\u2714 ', u'So Impressive! \\u2705 ', u'Super Perfect! \\u270c \\u2b50 ', u'Cool \\u2728 \\u2728 ', u'Pretty Awesome \\u2600 \\u2665 \\u270c ', u'Impressive! \\u27b0 ', u'Impressive! \\u2b50 \\u2728 \\u2611 ', u'Lovely! \\u26a1 ', u'Great! \\u270a \\u27b0 \\u270a ', u'Quite Incredible \\u2714 \\u263a ', u'Really Superb! \\u2764 ', u'Really Impressive! \\u27b0 ', u'Pretty Awesome! \\u26a1 ', u'Incredible! \\u2600 ', u'Super Superb! \\u2705 ', u'Quite Cool \\u2757 \\u270c ', u'Lovely ', u'Awesome! \\u2705 ', u'Epic \\u2764 ', u'So Epic! \\u26a1 ', u'Cool! \\u2764 \\u2764 ', u'Quite Awesome! \\u270c \\u2764 ', u'Quite Great! \\u2728 \\u2600 ', u'Cool! \\u2611 \\u2b50 ', u'Really Perfect \\u26a1 \\u26a1 \\u263a ', u'Awesome! \\u2600 \\u2764 ', u'Superb! \\u27b0 \\u27b0 \\u2600 ', u'Really Perfect! \\u27b0 ', u'Super Superb! \\u26a1 \\u2764 ', u'Quite Great! \\u2714 ', u'Really Perfect! \\u2728 ', u'Quite Impressive \\u270b ', u'Epic! \\u263a \\u27b0 ', u'Perfect \\u270a \\u2611 \\u27b0 ', u'Cool! \\u270b \\u26a1 ', u'Super Awesome! \\u2764 \\u2757 ', u'Really Great! ', u'Really Incredible! \\u2b50 ', u'Superb \\u270a \\u27b0 ', u'Great! ', u'Pretty Cool! \\u2600 \\u2600 ', u'Super Cool! \\u270b \\u27b0 ', u'Pretty Superb! ', u'So Awesome \\u2728 \\u27b0 ', u'Pretty Neat \\u2728 \\u270a \\u26a1 ', u'Quite Cool \\u2728 \\u2b50 \\u263a ', u'Super Great! \\u2665 ', u'So Lovely! \\u2665 \\u2764 ', u'Epic! \\u27b0 \\u2705 ', u'Great \\u2b50 \\u2714 ', u'Super Incredible! \\u270b \\u263a ', u'Really Great \\u27b0 ', u'So Awesome \\u2665 \\u263a ', u'Pretty Neat! \\u2714 ', u'Great ', u'Cool \\u2728 \\u263a \\u26a1 ', u'Quite Cool! \\u26a1 ', u'Quite Lovely! \\u2728 ', u'Great! \\u2757 ', u'Super Neat \\u2764 \\u2764 ', u'Pretty Cool! \\u2705 \\u270b ', u'Great! \\u2611 ', u'Awesome! \\u2757 ', u'Pretty Epic! ', u'Quite Superb \\u2600 \\u26a1 ', u'Perfect \\u26a1 ', u'Pretty Cool \\u2665 \\u2600 ', u'Quite Cool \\u263a \\u270b \\u2728 ', u'Super Perfect! \\u2b50 \\u2714 ', u'Really Incredible \\u270b ', u'Incredible \\u2757 \\u270b ', u'Really Epic! \\u27b0 \\u2764 ', u'Awesome! \\u270b ', u'Cool! \\u2757 ', u'Incredible \\u2665 \\u2665 ', u'Neat \\u2764 \\u2b50 ', u'Quite Neat! \\u2714 \\u2b50 ', u'Epic! \\u2757 ', u'Impressive \\u270a ', u'Quite Perfect! \\u2728 \\u263a ', u'Neat \\u2611 \\u2764 ', u'Pretty Perfect \\u2665 \\u263a ', u'Perfect \\u2b50 \\u2714 ', u'Quite Epic \\u2757 \\u2665 ', u'Super Neat! \\u2665 \\u270c ', u'Really Awesome \\u2611 \\u26a1 \\u2705 ', u'So Epic! \\u2714 \\u2728 ', u'Impressive \\u2757 ', u'Cool \\u2665 \\u2728 ', u'Perfect \\u2665 ', u'Awesome \\u2b50 ', u'Pretty Great \\u2b50 \\u270a ', u'Perfect! \\u2b50 ', u'Quite Great! \\u270b \\u26a1 ', u'Superb! \\u2705 \\u2665 ', u'Cool! \\u27b0 \\u270c \\u2665 ', u'Epic! \\u270b ', u'Really Incredible! \\u2705 ', u'Cool ', u'So Superb \\u26a1 ', u'Perfect \\u2600 \\u270b ', u'So Superb \\u270c \\u263a \\u2728 ', u'Quite Perfect! \\u2705 ', u'Quite Lovely \\u2665 \\u2665 \\u270b ', u'Perfect \\u2705 ', u'Pretty Lovely! \\u2600 \\u27b0 ', u'So Incredible! ', u'Pretty Cool \\u2728 ', u'Great! \\u270c \\u2611 ', u'Great \\u2764 \\u263a ', u'So Neat \\u2b50 \\u270c ', u'Neat \\u270c ', u'Really Lovely! \\u270c \\u270b ', u'Awesome \\u270a \\u2764 ', u'So Impressive \\u270b ', u'Perfect! \\u2600 ', u'Super Neat \\u2705 \\u2705 ', u'Quite Superb ', u'Cool \\u2600 ', u'Really Awesome! \\u2714 \\u26a1 ', u'Super Awesome! \\u2611 ', u'Really Lovely! ', u'Perfect! \\u26a1 \\u26a1 ', u'Great! \\u2764 \\u2714 ', u'Impressive! ', u'Awesome \\u2714 ', u'Impressive! \\u2600 ', u'So Awesome \\u2705 ', u'Neat \\u270c \\u270b ', u'Lovely \\u2728 ', u'Epic \\u270a ', u'Neat! \\u27b0 \\u2757 ', u'Perfect \\u263a \\u2705 ', u'Neat! ', u'Impressive \\u270b \\u270b ', u'Impressive! \\u26a1 \\u270c ', u'Lovely! \\u2714 ', u'Super Cool \\u2600 ', u'Super Epic! \\u270c \\u270a ', u'Superb \\u2705 \\u2764 ', u'Really Neat! \\u2728 \\u2728 ', u'Really Epic! ', u'Super Superb \\u27b0 \\u2764 ', u'Really Epic! \\u2714 \\u263a \\u2611 ', u'Impressive! \\u270c ', u'Super Great \\u270c ', u'Neat! \\u27b0 ', u'Lovely! \\u270c ', u'Really Great ', u'Epic ', u'Epic! \\u263a ', u'Really Cool! ', u'Perfect \\u270c \\u263a ', u'Awesome \\u270c ', u'Lovely! \\u2b50 \\u2705 ', u'Really Incredible \\u2705 \\u2757 ', u'Pretty Great ', u'Awesome \\u27b0 \\u263a ', u'Really Awesome \\u270b ', u'Impressive! \\u2665 ', u'Incredible! \\u2611 \\u270a ', u'Incredible \\u263a \\u26a1 ', u'Superb \\u26a1 \\u2757 ', u'So Epic! \\u2b50 ', u'Quite Lovely! \\u26a1 \\u2757 ', u'Lovely \\u26a1 ', u'Impressive! \\u2714 ', u'Super Perfect \\u2728 \\u27b0 ', u'Superb! \\u2600 \\u2705 ', u'Really Neat! ', u'So Neat! \\u2764 \\u2611 ', u'Super Superb \\u270b ', u'Super Incredible \\u270c ', u'Neat \\u2757 \\u27b0 ', u'Really Cool! \\u2764 \\u2757 ', u'Super Impressive! \\u2757 \\u2757 \\u26a1 ', u'Quite Great! \\u2b50 \\u2764 \\u26a1 ', u'Pretty Impressive ', u'Super Impressive \\u2611 \\u26a1 ', u'Awesome! \\u2764 \\u2728 ', u'Cool! \\u270a \\u2600 ', u'Pretty Superb \\u2705 \\u270a ', u'Epic! \\u2728 ', u'Really Perfect \\u263a ', u'Cool! \\u2728 ', u'Really Superb ', u'Incredible \\u2b50 ', u'So Perfect! \\u2600 ', u'So Impressive! ', u'Quite Cool! \\u263a \\u263a ', u'Superb \\u270c \\u2728 ', u'So Cool \\u2665 ', u'Cool \\u2728 ', u'So Lovely \\u2b50 ', u'Super Neat! ', u'Really Perfect! ', u'Quite Incredible! \\u270c \\u270a ', u'So Superb! ', u'Incredible \\u270c \\u2b50 \\u270b ', u'Awesome! \\u2611 \\u2b50 ', u'Really Neat! \\u2665 ', u'Super Impressive \\u2714 \\u2611 ', u'So Cool \\u2b50 ', u'Really Epic! \\u2757 \\u270a ', u'Really Neat! \\u2728 \\u270a ', u'Lovely! \\u270b ', u'Quite Lovely \\u263a \\u270c ', u'Pretty Great! \\u2764 ', u'Great! \\u270a \\u27b0 ', u'So Neat \\u270c ', u'Quite Epic \\u2757 ', u'Awesome! \\u2b50 ', u'Quite Epic \\u2764 \\u2728 \\u2764 ', u'Cool \\u2764 \\u2757 \\u2764 ', u'Perfect! \\u2665 ', u'Great \\u2728 \\u2757 ', u'Awesome \\u2705 \\u270a \\u2665 ', u'Quite Impressive ', u'Pretty Lovely! \\u270a \\u270a ', u'Awesome \\u27b0 \\u2600 \\u2757 ', u'Quite Perfect \\u2714 \\u2728 ', u'Super Epic \\u2600 \\u270c ', u'Superb! \\u2728 ', u'Pretty Neat \\u2757 \\u2b50 ', u'Superb! \\u2b50 \\u27b0 \\u2600 ', u'Quite Neat \\u2b50 ', u'So Great \\u263a ', u'Quite Cool \\u26a1 \\u2611 ', u'Awesome! \\u27b0 ', u'Impressive \\u270c \\u2764 ', u'Quite Superb \\u2714 \\u27b0 ', u'Impressive \\u2705 \\u2764 \\u270a ']\n"
     ]
    }
   ],
   "source": [
    "prefixes = [u'So ', u'Really ', u'Super ', u'Pretty ', u'Quite ']\n",
    "\n",
    "midParts = [u'Awesome', u'Cool', u'Superb', u'Epic', u'Great', u'Lovely', u'Perfect',\n",
    "           u'Neat', u'Impressive', u'Incredible']\n",
    "\n",
    "emojis = [u'\\u2705 ', u'\\u270A ', u'\\u270B ', u'\\u270C ', u'\\u2714 ', u'\\u2728 ', u'\\u2757 ',  \n",
    "          u'\\u2764 ', u'\\u27B0 ', u'\\u2600 ', u'\\u2611 ', u'\\u263A ', u'\\u2665 ',\n",
    "          u'\\u2B50 ', u'\\u26A1 ']\n",
    "\n",
    "comments = []\n",
    "\n",
    "for _ in range(250):\n",
    "    comments.append(choice([choice(prefixes), '']) + choice(midParts) + choice(['! ', ' ']) + choice([choice(emojis), '']) + choice([choice(emojis), '']) + choice([choice(emojis), '']))\n",
    "    \n",
    "comments = list(set(comments))\n",
    "print comments"
   ]
  },
  {
   "cell_type": "code",
   "execution_count": 33,
   "metadata": {
    "collapsed": false
   },
   "outputs": [
    {
     "name": "stdout",
     "output_type": "stream",
     "text": [
      "[u'That looks amazing! \\u2b50 \\u2757 ', u'Your feed rocks \\u270b \\u2705 ', u'Nice Pics! \\u27b0 \\u2764 \\u263a ', u'Nice Stuff \\u270b ', u'Your feed rocks \\u270c ', u'You Rock \\u2665 \\u270c ', u'That looks amazing! \\u2600 ', u'Bravo \\u2714 \\u2705 \\u2757 ', u'Love your stuff \\u2600 \\u2705 ', u'Nice Pics! \\u26a1 ', u'Your feed rocks! \\u2b50 \\u270b ', u'Bravo! \\u2757 ', u'Nice Pics \\u270c \\u263a ', u'Love your stuff! \\u2705 \\u2714 \\u2705 ', u'Your feed rocks! \\u270b \\u2757 ', u'Nice Stuff \\u270a ', u'Nice Pics \\u2665 \\u2728 \\u2b50 ', u'Nice Pics \\u2705 ', u'Bravo ', u'You Rock! \\u2600 \\u2600 \\u2600 ', u'Your feed rocks! \\u270a \\u2b50 ', u'Nice Pics! \\u2705 \\u2705 ', u'That looks amazing \\u2714 ', u'Your feed rocks! \\u270a \\u270b ', u'Your feed rocks! ', u'You Rock! ', u'Love your stuff! \\u270b ', u'Love your stuff \\u27b0 \\u2600 ', u'Your feed rocks ', u'That looks amazing \\u2611 ', u'Your feed rocks \\u26a1 ', u'That looks amazing \\u2b50 ', u'That looks amazing! ', u'Love your stuff! \\u2600 \\u2611 ', u'Love your stuff ', u'You Rock \\u270b ', u'Love your stuff! \\u2b50 ', u'Nice Stuff! \\u270b ', u'Bravo! \\u27b0 \\u2600 \\u270b ', u'Your feed rocks! \\u270c ', u'Nice Stuff ', u'Bravo! \\u26a1 \\u2757 ', u'Nice Pics! \\u2b50 ', u'You Rock \\u26a1 \\u270b \\u26a1 ', u'Bravo! \\u2611 ', u'Bravo! \\u2b50 ', u'Nice Pics! \\u270a \\u270a \\u2611 ', u'Your feed rocks \\u2611 \\u2b50 ', u'You Rock \\u263a \\u2600 ', u'Love your stuff! \\u2705 ', u'You Rock! \\u2611 \\u270c ', u'Your feed rocks \\u2b50 \\u2714 ', u'Nice Pics! ', u'Bravo \\u2714 \\u27b0 ', u'You Rock! \\u27b0 \\u2600 \\u2600 ', u'You Rock! \\u2764 \\u2764 ', u'Nice Pics! \\u2705 \\u27b0 \\u27b0 ', u'Your feed rocks \\u2728 ', u'Bravo \\u2b50 ', u'You Rock \\u263a ', u'Bravo! \\u2611 \\u2665 ', u'That looks amazing \\u270b ', u'You Rock ', u'Bravo \\u27b0 \\u2714 ', u'That looks amazing \\u2757 ', u'Nice Stuff! ', u'Your feed rocks \\u270b ', u'You Rock \\u2611 ', u'Nice Pics \\u2705 \\u270b ', u'You Rock \\u270c \\u2705 ', u'That looks amazing! \\u2665 ', u'You Rock \\u2665 \\u2b50 ', u'Your feed rocks \\u270a ', u'Nice Pics! \\u2764 ', u'Bravo \\u2600 ', u'Your feed rocks! \\u270b ', u'That looks amazing \\u263a \\u2600 ', u'Your feed rocks \\u2705 \\u2728 ', u'Nice Pics \\u2b50 ', u'Nice Stuff! \\u2757 \\u2600 ', u'Your feed rocks \\u263a \\u270a ', u'Nice Pics \\u2764 \\u270a ', u'You Rock \\u27b0 ', u'Your feed rocks! \\u270c \\u2705 \\u263a ', u'Nice Pics! \\u270a ', u'Nice Pics! \\u263a \\u2764 ', u'You Rock! \\u2705 \\u2764 ', u'Love your stuff \\u2611 ', u'Bravo \\u2b50 \\u270c ']\n"
     ]
    }
   ],
   "source": [
    "comments = []\n",
    "\n",
    "new_prefix = [u'Love your stuff', u'Nice Pics', u'That looks amazing', u'Nice Stuff', u'Bravo', u'You Rock', u'Your feed rocks']\n",
    "\n",
    "for _ in range(100):\n",
    "    comments.append(choice(new_prefix) + choice(['! ', ' ']) + choice([choice(emojis), '']) + choice([choice(emojis), '']) + choice([choice(emojis), '']))\n",
    "    \n",
    "comments = list(set(comments))\n",
    "print comments "
   ]
  },
  {
   "cell_type": "code",
   "execution_count": 36,
   "metadata": {
    "collapsed": false
   },
   "outputs": [
    {
     "name": "stdout",
     "output_type": "stream",
     "text": [
      "[u'Bravo \\u270c \\u2665 ', u'Tasty \\u2611 \\u270c ', u'Yum! ', u'Definitely trying this \\u2705 \\u27b0 ', u'Lovely! \\u2764 ', u'Ohh yes... \\u2611 \\u2600 \\u263a ', u'Tasty! \\u270b ', u'That looks amazing! \\u270b ', u'Lovely \\u263a \\u27b0 \\u26a1 ', u'Looks tasty \\u2705 \\u2728 ', u'Mesmerizing \\u270b \\u263a ', u'Definitely trying this! \\u2705 ', u'Yum \\u2b50 ', u'Definitely trying that! ', u'Looks tasty! ', u'Neat! \\u2611 \\u2764 ', u'Love it \\u27b0 ', u'Lovely ', u'Looks tasty \\u2757 \\u2705 ', u'Yummy! \\u26a1 \\u26a1 \\u27b0 ', u'Would love to try that \\u270a \\u2705 ', u'Looks delicious \\u2b50 ', u'Tasty! \\u270c \\u270b ', u'Wow!! This looks so tasty! \\u2714 ', u'Definitely trying that! \\u2705 \\u2757 ', u'Perfect \\u2611 \\u2705 ', u'Ohh yes...! \\u2b50 ', u'Ohh yes... \\u2714 \\u263a ', u'Tasty \\u2665 \\u2705 \\u2705 ', u'Definitely trying this! \\u2705 \\u270a ', u'Looks delicious! \\u2757 ', u'Perfect \\u2764 \\u270b ', u'Perfect \\u270c \\u2728 ', u'Would love to try that \\u2757 \\u263a ', u'Mesmerizing! \\u270b \\u263a ', u'Bravo! ', u'Neat \\u270a ', u'Wow!! This looks so tasty! \\u2757 ', u'Love it \\u2705 ', u'Ohh yes...! \\u2714 \\u2600 \\u270b ', u'Yummy! \\u263a ', u'Would love to try that \\u2728 \\u2611 ', u'Looks tasty! \\u270c ', u'Lovely! \\u2705 \\u2764 \\u2728 ', u'Looks tasty \\u270c \\u2728 ', u'Yummy \\u263a \\u2665 ', u'Definitely trying this! ', u'Lovely \\u270b \\u2611 ', u'Ohh yes... \\u26a1 \\u2714 ', u'Yum that looks delicious ', u'Tasty \\u2611 ', u'Yum that looks delicious! \\u27b0 \\u2728 ', u'Lovely \\u2611 ', u'Definitely trying that! \\u2600 ', u'That looks amazing! \\u2728 ', u'Neat \\u2600 \\u2757 ', u'Yummy \\u2611 \\u2705 ', u'Neat! ', u'That looks amazing \\u2665 \\u270c ', u'That looks amazing ', u'Love it \\u2665 \\u270c ', u'Lovely! \\u2757 \\u2600 ', u'Love it \\u2611 ', u'Would love to try that! \\u2611 \\u2714 ', u'Perfect! \\u2714 ', u'Wow!! This looks so tasty! \\u2728 ', u'Mesmerizing! \\u2714 \\u2705 ', u'Love it! \\u270c \\u2611 ', u'Perfect \\u2714 \\u27b0 ', u'Ohh yes... ', u'Wow!! This looks so tasty \\u2665 \\u2600 \\u2611 ', u'That looks amazing! \\u27b0 \\u2764 ', u'That looks amazing \\u2611 ', u'Love it \\u2b50 \\u270a ', u'Perfect \\u263a \\u270a \\u2611 ', u'Bravo! \\u2757 \\u270b ', u'Definitely trying that \\u27b0 \\u2764 ', u'That looks amazing! ', u'Yummy! \\u263a \\u2705 \\u26a1 ', u'That looks amazing \\u2757 \\u2728 \\u27b0 ', u'Bravo! \\u2728 \\u2714 \\u270b ', u'Mesmerizing \\u2600 ', u'Tasty ', u'Yum \\u2665 ', u'Bravo \\u2705 \\u270a ', u'Looks delicious ', u'Neat! \\u2757 \\u26a1 ', u'Looks tasty \\u2665 \\u2757 ', u'Perfect \\u2665 ', u'That looks amazing \\u2757 ', u'Neat \\u2b50 ', u'Looks tasty \\u2705 ', u'Bravo! \\u263a ', u'Definitely trying this! \\u270a \\u2b50 \\u2611 ', u'Definitely trying this! \\u2665 ', u'Would love to try that \\u2728 \\u270a ', u'Would love to try that! \\u2611 \\u2665 ', u'Yum that looks delicious! ', u'Looks delicious! \\u2764 \\u270c ', u'Perfect \\u27b0 \\u2757 ', u'Yum that looks delicious \\u26a1 \\u270b ', u'Wow!! This looks so tasty! \\u26a1 \\u2757 \\u270a ', u'Perfect \\u2b50 \\u270b ', u'Yummy \\u2728 \\u2728 ', u'Love it \\u270c ', u'Perfect \\u2757 ', u'Lovely \\u263a ', u'Tasty! \\u2b50 \\u2714 ', u'Perfect! \\u2600 ', u'Yum! \\u2611 ', u'Looks tasty! \\u2764 \\u2611 ', u'That looks amazing! \\u263a \\u2600 \\u26a1 ', u'Looks tasty \\u270c \\u2757 ', u'Mesmerizing \\u270a \\u2728 ', u'Looks delicious \\u270c \\u263a \\u27b0 ', u'Tasty! \\u2728 ', u'Looks delicious! \\u270a \\u270a ', u'That looks amazing \\u2714 \\u26a1 \\u27b0 ', u'Bravo \\u2764 \\u270a ', u'Mesmerizing \\u270b ', u'Neat \\u26a1 ', u'Definitely trying that \\u2705 ', u'Looks tasty \\u2665 \\u26a1 ', u'Definitely trying that! \\u270c ', u'Tasty! \\u2665 \\u26a1 \\u270a ', u'Bravo \\u2764 \\u27b0 ', u'Looks delicious! \\u270c \\u2714 ', u'Definitely trying this ', u'Looks tasty \\u2611 ', u'Wow!! This looks so tasty \\u2665 \\u2728 \\u27b0 ', u'Lovely! \\u2b50 ', u'Yum that looks delicious \\u26a1 \\u2600 \\u2665 ', u'Wow!! This looks so tasty! \\u270a \\u263a \\u2600 ', u'Definitely trying that \\u270b \\u2757 \\u2764 ', u'Looks delicious! ', u'Tasty \\u27b0 \\u2757 ', u'Ohh yes...! ', u'Ohh yes...! \\u2b50 \\u270b ', u'Yum that looks delicious \\u2611 \\u270b ', u'Bravo! \\u2714 ', u'Definitely trying this! \\u2b50 ', u'Love it! \\u2764 \\u26a1 \\u2728 ', u'Wow!! This looks so tasty \\u2b50 ', u'Mesmerizing ', u'Tasty! \\u26a1 \\u2757 \\u2728 ', u'Yum \\u270a ', u'Neat! \\u2665 \\u2757 ', u'Love it! ', u'Looks delicious! \\u2728 \\u263a ', u'Would love to try that \\u2b50 ', u'Looks tasty! \\u2611 \\u27b0 \\u2600 ', u'Looks tasty ', u'Would love to try that! \\u2705 ', u'Definitely trying this \\u2764 \\u270b \\u27b0 ', u'Would love to try that! \\u2764 \\u2764 ', u'Mesmerizing \\u2764 \\u2611 ', u'Love it \\u270c \\u270b ', u'Looks tasty \\u2705 \\u2611 ', u'Neat \\u270c \\u2757 ', u'Lovely \\u27b0 \\u270b ', u'Neat \\u263a ', u'Love it \\u270a ', u'Bravo! \\u270b \\u2764 \\u2728 ', u'Yum that looks delicious! \\u2728 ', u'Love it \\u2705 \\u2705 ', u'Definitely trying this! \\u2611 ', u'Yum \\u27b0 ', u'Would love to try that! \\u2757 \\u270b \\u270c ', u'Definitely trying this! \\u2b50 \\u2b50 ', u'Ohh yes...! \\u26a1 \\u2728 ', u'Yummy! ', u'Definitely trying this \\u2b50 \\u27b0 ', u'Ohh yes...! \\u2764 \\u270c ', u'Would love to try that \\u270c \\u270b ', u'Neat! \\u2665 \\u2611 ', u'Lovely! \\u270a ', u'Yummy \\u2757 ', u'Bravo \\u2705 ', u'Ohh yes...! \\u2764 \\u2757 \\u2600 ', u'Definitely trying that \\u2764 \\u270a ', u'Wow!! This looks so tasty! \\u2611 \\u26a1 ', u'Mesmerizing! \\u2764 ', u'Definitely trying that \\u2611 \\u27b0 ', u'Looks tasty \\u2611 \\u26a1 ', u'Ohh yes... \\u2757 \\u2665 ', u'Yum \\u2728 \\u27b0 ', u'Yummy \\u2665 \\u270c ', u'Yum \\u2714 \\u2b50 \\u27b0 ', u'Definitely trying that! \\u263a \\u2b50 ', u'Mesmerizing \\u2b50 \\u2714 ', u'Wow!! This looks so tasty \\u2611 \\u2728 ', u'Looks delicious \\u2611 ', u'Neat! \\u2764 \\u270a \\u270b ', u'Looks tasty \\u2b50 \\u2600 ', u'Wow!! This looks so tasty \\u2728 ', u'Love it \\u2705 \\u26a1 ', u'Looks tasty! \\u2b50 ', u'Perfect! \\u270b \\u270a ', u'Would love to try that! \\u2600 \\u2714 ', u'Ohh yes... \\u2665 \\u27b0 \\u27b0 ', u'Looks tasty! \\u2728 \\u2611 \\u2757 ', u'Lovely! \\u2728 ', u'Looks delicious \\u263a \\u2757 ', u'Definitely trying this \\u2600 \\u270c ', u'Yummy \\u270c ', u'Yummy! \\u2728 \\u26a1 ', u'Yummy! \\u2764 ', u'Lovely! \\u2665 \\u2705 \\u2665 ', u'Definitely trying this \\u2714 \\u2611 ', u'Would love to try that \\u2764 ', u'Looks delicious \\u2665 ', u'Would love to try that! ', u'Looks delicious \\u270b ', u'Tasty \\u2600 \\u27b0 ', u'Lovely \\u263a \\u2611 ', u'Yummy! \\u2705 \\u2714 ', u'Definitely trying that \\u26a1 \\u2b50 ', u'Wow!! This looks so tasty \\u263a \\u270c ', u'That looks amazing \\u270a \\u2764 ', u'Definitely trying that! \\u27b0 \\u2665 ', u'Bravo \\u2714 \\u2600 ', u'Lovely \\u270b ', u'Yum! \\u26a1 ', u'Definitely trying that! \\u270b ', u'That looks amazing! \\u2600 \\u2665 ', u'Definitely trying this \\u2611 ', u'Yum that looks delicious! \\u2600 ', u'Tasty! \\u270c \\u270c ', u'Yummy \\u26a1 ', u'Perfect \\u2764 \\u2757 ', u'Looks delicious \\u27b0 \\u2764 ', u'Looks delicious! \\u2705 \\u2b50 ', u'Ohh yes... \\u2611 \\u2714 ', u'Tasty! \\u2764 ', u'Neat! \\u2665 ', u'Perfect ', u'Definitely trying that! \\u26a1 \\u27b0 ']\n"
     ]
    }
   ],
   "source": [
    "comments = []\n",
    "\n",
    "food_prefix = [u'Tasty', u'That looks amazing', u'Would love to try that', u'Yum', u'Yummy', u'Definitely trying that',\n",
    "              u'Definitely trying this', u'Looks delicious', u'Mesmerizing', u'Ohh yes...', u'Yum that looks delicious',\n",
    "              u'Perfect', u'Looks tasty', u'Love it', u'Wow!! This looks so tasty', u'Lovely', u'Neat', u'Bravo']\n",
    "\n",
    "for _ in range(250):\n",
    "    comments.append(choice(food_prefix) + choice(['! ', ' ']) + choice([choice(emojis), '']) + choice([choice(emojis), '']) + choice([choice(emojis), '']))\n",
    "    \n",
    "comments = list(set(comments))\n",
    "print comments "
   ]
  },
  {
   "cell_type": "code",
   "execution_count": 38,
   "metadata": {
    "collapsed": false
   },
   "outputs": [
    {
     "name": "stdout",
     "output_type": "stream",
     "text": [
      "[u'Tasty \\u2757 \\u2b50 \\u2611 ', u'Yummy \\u2728 ', u'Wow!! This looks so tasty! \\u2b50 ', u'Yum! ', u'Yum that looks delicious \\u2714 \\u270b ', u'Love it! \\u2728 \\u27b0 ', u'Tasty! \\u270b ', u'Looks delicious! \\u270c ', u'Bravo! \\u263a \\u2b50 ', u'Neat! \\u2714 \\u270a \\u27b0 ', u'Looks delicious! \\u2705 ', u'Would love to try that ', u'Definitely trying that! \\u2665 \\u2757 ', u'Ohh yes...! \\u270a \\u2764 ', u'Looks tasty! \\u2764 \\u2757 ', u'Definitely trying that! ', u'Tasty \\u2757 \\u2757 ', u'Neat \\u270b \\u2714 ', u'That looks amazing! \\u2714 \\u2611 ', u'Wow!! This looks so tasty! \\u2728 \\u2611 ', u'Lovely ', u'Tasty ', u'Definitely trying this! \\u2728 \\u26a1 ', u'Yum that looks delicious! \\u2705 ', u'Wow!! This looks so tasty! \\u2714 ', u'Love it \\u263a ', u'Lovely \\u2757 ', u'That looks amazing \\u270a \\u2705 \\u2728 ', u'Definitely trying that \\u2728 ', u'That looks amazing! \\u2b50 \\u2600 ', u'Bravo! ', u'Perfect \\u270a \\u270c \\u2764 ', u'Wow!! This looks so tasty ', u'Yum! \\u2600 ', u'Looks delicious \\u270a \\u2757 \\u270c ', u'Looks tasty \\u2728 ', u'Perfect \\u2728 ', u'Tasty! \\u2b50 \\u2757 \\u2728 ', u'Tasty \\u27b0 ', u'Neat ', u'Would love to try that \\u2728 \\u27b0 \\u270b ', u'Neat \\u27b0 \\u270a ', u'Definitely trying this! \\u270a \\u2705 ', u'Lovely! \\u2714 \\u2665 ', u'Yum that looks delicious \\u2705 ', u'Lovely \\u2714 \\u2764 ', u'Mesmerizing! \\u2665 ', u'Definitely trying this \\u2764 \\u263a \\u27b0 ', u'Love it \\u2b50 \\u270b ', u'Definitely trying this! ', u'Bravo ', u'Yummy ', u'Yum! \\u270a \\u2764 ', u'Yum that looks delicious! \\u2764 ', u'Yummy! \\u270b \\u270c \\u2600 ', u'Yum that looks delicious ', u'Lovely \\u2611 ', u'Yum that looks delicious \\u270a ', u'Definitely trying that \\u26a1 ', u'Yum! \\u2b50 ', u'Neat! ', u'Yum that looks delicious \\u270c ', u'Love it! \\u2600 \\u2728 ', u'Love it \\u27b0 \\u270c ', u'Definitely trying that \\u270b ', u'Definitely trying this! \\u2757 \\u270c ', u'Mesmerizing! ', u'Wow!! This looks so tasty! \\u2728 ', u'Neat! \\u2611 \\u2665 ', u'Wow!! This looks so tasty \\u270a \\u2764 ', u'Perfect! \\u270b ', u'Ohh yes... ', u'Definitely trying that ', u'Yummy! \\u2600 ', u'Lovely! \\u2728 ', u'Definitely trying that! \\u26a1 ', u'Love it! \\u26a1 ', u'That looks amazing! ', u'That looks amazing! \\u270a \\u2611 \\u2764 ', u'Bravo \\u270b ', u'Tasty! ', u'Yum that looks delicious! \\u26a1 \\u2611 ', u'Looks delicious \\u270c \\u2728 ', u'Ohh yes...! \\u2611 \\u270a ', u'Yum! \\u2714 ', u'Love it \\u2757 \\u270c ', u'Neat \\u2764 \\u2600 \\u26a1 ', u'Looks tasty! \\u2705 \\u270a ', u'Lovely! \\u2665 \\u2728 ', u'Tasty \\u270c \\u2611 \\u2728 ', u'Would love to try that \\u2b50 \\u2714 ', u'Looks delicious! \\u2611 \\u2757 ', u'Love it ', u'Wow!! This looks so tasty! \\u270c ', u'Wow!! This looks so tasty! \\u2757 ', u'Ohh yes...! \\u2611 \\u2714 \\u2757 ', u'Lovely! \\u2665 \\u2665 ', u'Looks tasty! \\u2600 ', u'Looks delicious! \\u270b \\u27b0 ', u'That looks amazing \\u2728 ', u'Wow!! This looks so tasty \\u263a ', u'Mesmerizing! \\u2600 ', u'Ohh yes...! ', u'Definitely trying that! \\u2665 ', u'Tasty! \\u2764 \\u2b50 ', u'Lovely! \\u2714 \\u2600 ', u'Love it \\u270c ', u'Wow!! This looks so tasty \\u2728 \\u2757 ', u'Lovely \\u263a ', u'Perfect! ', u'Would love to try that \\u27b0 ', u'Yum \\u27b0 \\u26a1 ', u'Definitely trying this \\u263a \\u2600 ', u'Looks tasty! \\u2757 ', u'That looks amazing \\u2764 \\u27b0 ', u'Looks tasty \\u2705 \\u2705 ', u'Looks tasty! \\u270b ', u'Ohh yes...! \\u270a \\u2b50 ', u'Wow!! This looks so tasty! ', u'Yum \\u270b ', u'Yum that looks delicious! \\u2600 \\u27b0 ', u'Lovely \\u2728 ', u'Looks delicious \\u270c \\u27b0 ', u'Looks delicious \\u2611 \\u2b50 ', u'Would love to try that \\u263a \\u270b \\u270b ', u'Ohh yes... \\u2757 \\u2757 \\u2705 ', u'Definitely trying that \\u270c ', u'Bravo \\u2757 ', u'Yummy \\u27b0 \\u2611 ', u'Tasty \\u270a \\u270a ', u'Bravo! \\u2611 ', u'Yummy! \\u263a \\u2b50 ', u'Definitely trying that! \\u27b0 ', u'Yum \\u2600 ', u'Bravo! \\u2705 \\u270a ', u'Wow!! This looks so tasty \\u2714 \\u2714 ', u'Lovely! \\u270c ', u'Looks delicious! ', u'Perfect \\u270c ', u'Yummy \\u270a \\u2757 \\u2705 ', u'Definitely trying that \\u270a ', u'Wow!! This looks so tasty \\u27b0 \\u270c ', u'Bravo \\u2611 ', u'Looks tasty! \\u2714 ', u'Tasty! \\u2611 \\u26a1 ', u'Tasty \\u26a1 ', u'Would love to try that \\u26a1 \\u270a ', u'Tasty \\u2705 \\u2764 ', u'Would love to try that \\u2705 \\u2728 \\u2714 ', u'Mesmerizing! \\u263a \\u270c ', u'That looks amazing ', u'Ohh yes... \\u2611 \\u2705 ', u'Neat \\u2665 \\u2600 \\u2728 ', u'Looks delicious \\u270c \\u2b50 ', u'Yum \\u2600 \\u2764 ', u'Yum \\u270b \\u270c ', u'Mesmerizing \\u2757 \\u2b50 ', u'Definitely trying that! \\u2728 \\u263a ', u'Perfect! \\u263a \\u2600 \\u2665 ', u'Perfect \\u2714 \\u270a \\u270c ', u'That looks amazing \\u270a \\u2757 ', u'Looks tasty ', u'Love it! \\u27b0 ', u'Yummy! ', u'That looks amazing \\u270b ', u'Definitely trying this \\u26a1 \\u2b50 ', u'Neat \\u27b0 \\u263a ', u'Looks tasty! \\u27b0 ', u'Tasty \\u27b0 \\u2611 ', u'Love it \\u270a ', u'Perfect! \\u2b50 \\u2665 ', u'Wow!! This looks so tasty! \\u26a1 \\u2757 ', u'Looks delicious \\u2705 ', u'Wow!! This looks so tasty! \\u2665 ', u'Looks tasty \\u2714 ', u'Definitely trying that! \\u2611 ', u'Would love to try that \\u2b50 \\u2728 ', u'Would love to try that! \\u2600 \\u2600 ', u'Would love to try that \\u2611 ', u'Mesmerizing! \\u2b50 \\u2600 \\u2764 ', u'Bravo! \\u2714 ', u'Would love to try that! \\u2600 ', u'That looks amazing \\u27b0 \\u2665 \\u2728 ', u'Love it! \\u27b0 \\u2714 ', u'Would love to try that \\u27b0 \\u2665 \\u270b ', u'Tasty \\u27b0 \\u2600 ', u'Perfect \\u2611 \\u270c ', u'Yummy \\u2611 \\u2764 ', u'Would love to try that! \\u2b50 ', u'Yummy \\u26a1 ', u'Neat! \\u2757 ', u'Would love to try that! \\u2705 \\u27b0 \\u2665 ', u'Ohh yes...! \\u2728 \\u2665 ', u'Love it! \\u2764 \\u2b50 ', u'Love it \\u2705 \\u2b50 ', u'Neat! \\u270a ', u'That looks amazing \\u2728 \\u27b0 \\u2757 ', u'That looks amazing \\u2b50 \\u2757 ', u'Looks delicious \\u2714 \\u2705 ', u'Looks tasty! \\u2b50 ', u'Neat! \\u2665 \\u2600 ', u'Mesmerizing! \\u2611 \\u2600 ', u'Tasty \\u270c \\u2665 ', u'Bravo! \\u2764 \\u2714 ', u'That looks amazing! \\u270c \\u2600 ', u'Yummy \\u2764 \\u270c ', u'Definitely trying this \\u2728 ', u'Yum that looks delicious! \\u2714 ', u'Love it! ', u'Would love to try that! ', u'Looks delicious \\u270b ', u'Yummy \\u26a1 \\u2757 ', u'Wow!! This looks so tasty! \\u270a ', u'Perfect! \\u2728 \\u2705 \\u2b50 ', u'Perfect! \\u2611 \\u2728 \\u270a ', u'Looks tasty! \\u2b50 \\u26a1 \\u2764 ', u'Yum that looks delicious! \\u2611 \\u2764 ', u'Tasty! \\u26a1 ', u'Definitely trying that \\u2705 \\u263a ', u'Ohh yes... \\u2728 ', u'Would love to try that! \\u2b50 \\u2728 ', u'Looks tasty \\u2764 \\u2705 \\u2757 ', u'Would love to try that! \\u263a ', u'Definitely trying that! \\u270b ', u'Would love to try that! \\u2757 ', u'Yummy! \\u2705 \\u2b50 \\u2757 ', u'Perfect ', u'Looks delicious! \\u270c \\u2757 ', u'Yummy \\u270b ', u'Love it \\u270b \\u2600 \\u27b0 ', u'Mesmerizing! \\u2705 ', u'Definitely trying this \\u270a \\u270b ']\n"
     ]
    }
   ],
   "source": [
    "comments = []\n",
    "\n",
    "nature_prefix = [u'Epic', u'Perfect', u'Would love to visit this Place', u'Beautiful', u'Impressive', u'Awesome',\n",
    "                u'So cool', u'Epic Shot', u'Incredible', u'Incredible Shot', u'Beautiful Shot', u'Thats really neat',\n",
    "                u'Damn', u'Pretty Awesome Shot', u'What a place', u'Where is this?']\n",
    "\n",
    "\n",
    "for _ in range(250):\n",
    "    comments.append(choice(food_prefix) + choice(['! ', ' ']) + choice([choice(emojis), '']) + choice([choice(emojis), '']) + choice([choice(emojis), '']))\n",
    "    \n",
    "comments = list(set(comments))\n",
    "print comments "
   ]
  },
  {
   "cell_type": "code",
   "execution_count": null,
   "metadata": {
    "collapsed": true
   },
   "outputs": [],
   "source": []
  }
 ],
 "metadata": {
  "kernelspec": {
   "display_name": "Python 2",
   "language": "python",
   "name": "python2"
  },
  "language_info": {
   "codemirror_mode": {
    "name": "ipython",
    "version": 2
   },
   "file_extension": ".py",
   "mimetype": "text/x-python",
   "name": "python",
   "nbconvert_exporter": "python",
   "pygments_lexer": "ipython2",
   "version": "2.7.11"
  }
 },
 "nbformat": 4,
 "nbformat_minor": 1
}
